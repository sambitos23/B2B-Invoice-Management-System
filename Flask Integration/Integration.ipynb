{
 "cells": [
  {
   "cell_type": "code",
   "execution_count": null,
   "id": "8933d4f8",
   "metadata": {},
   "outputs": [
    {
     "name": "stdout",
     "output_type": "stream",
     "text": [
      " * Serving Flask app '__main__' (lazy loading)\n",
      " * Environment: production\n",
      "\u001b[31m   WARNING: This is a development server. Do not use it in a production deployment.\u001b[0m\n",
      "\u001b[2m   Use a production WSGI server instead.\u001b[0m\n",
      " * Debug mode: off\n"
     ]
    },
    {
     "name": "stderr",
     "output_type": "stream",
     "text": [
      " * Running on http://127.0.0.1:5000 (Press CTRL+C to quit)\n",
      "127.0.0.1 - - [19/Apr/2022 12:22:29] \"OPTIONS / HTTP/1.1\" 200 -\n",
      "C:\\Users\\sambi\\AppData\\Local\\Programs\\Python\\Python310\\lib\\site-packages\\xgboost\\compat.py:36: FutureWarning: pandas.Int64Index is deprecated and will be removed from pandas in a future version. Use pandas.Index with the appropriate dtype instead.\n",
      "  from pandas import MultiIndex, Int64Index\n"
     ]
    },
    {
     "name": "stdout",
     "output_type": "stream",
     "text": [
      "{'cust_payment_terms': 'NAM4', 'business_code': 'U001', 'cust_number': 200020431, 'name_customer': 'highradius', 'clear_date': '2019-01-15', 'buisness_year': 2019, 'doc_id': '1928576325', 'posting_date': '2019-01-05', 'due_in_date': '2019-01-24', 'baseline_create_date': '2019-01-01', 'converted_usd': 1790.3}\n",
      "{'cust_payment_terms': 'NAM4', 'business_code': 'U001', 'cust_number': 200020431, 'name_customer': 'highradius', 'clear_date': '2019-01-15', 'buisness_year': 2019, 'doc_id': '1928576325', 'posting_date': '2019-01-05', 'due_in_date': '2019-01-24', 'baseline_create_date': '2019-01-01', 'converted_usd': 1790.3}\n",
      " Predict\n"
     ]
    },
    {
     "name": "stderr",
     "output_type": "stream",
     "text": [
      "C:\\Users\\sambi\\AppData\\Local\\Programs\\Python\\Python310\\lib\\site-packages\\xgboost\\data.py:262: FutureWarning: pandas.Int64Index is deprecated and will be removed from pandas in a future version. Use pandas.Index with the appropriate dtype instead.\n",
      "  elif isinstance(data.columns, (pd.Int64Index, pd.RangeIndex)):\n",
      "127.0.0.1 - - [19/Apr/2022 12:22:30] \"POST / HTTP/1.1\" 200 -\n",
      "127.0.0.1 - - [19/Apr/2022 13:03:10] \"OPTIONS / HTTP/1.1\" 200 -\n",
      "C:\\Users\\sambi\\AppData\\Local\\Programs\\Python\\Python310\\lib\\site-packages\\xgboost\\data.py:262: FutureWarning: pandas.Int64Index is deprecated and will be removed from pandas in a future version. Use pandas.Index with the appropriate dtype instead.\n",
      "  elif isinstance(data.columns, (pd.Int64Index, pd.RangeIndex)):\n",
      "127.0.0.1 - - [19/Apr/2022 13:03:10] \"POST / HTTP/1.1\" 200 -\n"
     ]
    },
    {
     "name": "stdout",
     "output_type": "stream",
     "text": [
      "{'cust_payment_terms': 'NAH4', 'business_code': 'U001', 'cust_number': 200769623, 'name_customer': 'highradius', 'clear_date': '2020-02-11', 'buisness_year': 2020, 'doc_id': '1930438491', 'posting_date': '2020-01-26', 'due_in_date': '2020-02-10', 'baseline_create_date': '2020-01-26', 'converted_usd': 54273.28}\n",
      "{'cust_payment_terms': 'NAH4', 'business_code': 'U001', 'cust_number': 200769623, 'name_customer': 'highradius', 'clear_date': '2020-02-11', 'buisness_year': 2020, 'doc_id': '1930438491', 'posting_date': '2020-01-26', 'due_in_date': '2020-02-10', 'baseline_create_date': '2020-01-26', 'converted_usd': 54273.28}\n",
      " Predict\n"
     ]
    },
    {
     "name": "stderr",
     "output_type": "stream",
     "text": [
      "127.0.0.1 - - [19/Apr/2022 13:03:20] \"OPTIONS / HTTP/1.1\" 200 -\n",
      "C:\\Users\\sambi\\AppData\\Local\\Programs\\Python\\Python310\\lib\\site-packages\\xgboost\\data.py:262: FutureWarning: pandas.Int64Index is deprecated and will be removed from pandas in a future version. Use pandas.Index with the appropriate dtype instead.\n",
      "  elif isinstance(data.columns, (pd.Int64Index, pd.RangeIndex)):\n",
      "127.0.0.1 - - [19/Apr/2022 13:03:20] \"POST / HTTP/1.1\" 200 -\n"
     ]
    },
    {
     "name": "stdout",
     "output_type": "stream",
     "text": [
      "{'cust_payment_terms': 'NAD1', 'business_code': 'U001', 'cust_number': 200980828, 'name_customer': 'highradius', 'clear_date': '2019-08-08', 'buisness_year': 2019, 'doc_id': '1929646410', 'posting_date': '2019-07-22', 'due_in_date': '2019-08-11', 'baseline_create_date': '2019-07-22', 'converted_usd': 79656.6}\n",
      "{'cust_payment_terms': 'NAD1', 'business_code': 'U001', 'cust_number': 200980828, 'name_customer': 'highradius', 'clear_date': '2019-08-08', 'buisness_year': 2019, 'doc_id': '1929646410', 'posting_date': '2019-07-22', 'due_in_date': '2019-08-11', 'baseline_create_date': '2019-07-22', 'converted_usd': 79656.6}\n",
      " Predict\n"
     ]
    }
   ],
   "source": [
    "from flask import Flask, redirect, url_for, render_template, request,jsonify, make_response\n",
    "import New_Bucket\n",
    "import pandas as pd\n",
    "from flask_cors import CORS\n",
    "\n",
    "data = pd.DataFrame()\n",
    "app = Flask(__name__)\n",
    "CORS(app)\n",
    "\n",
    "@app.route(\"/\",methods=[\"POST\", \"GET\"])\n",
    "def home():\n",
    "    \n",
    "    if request.method == \"POST\":\n",
    "        print(request.json)\n",
    "        business_code = request.json[\"business_code\"]\n",
    "        cust_number = request.json['cust_number']\n",
    "        name_customer = request.json['name_customer']\n",
    "        clear_date = request.json['clear_date']\n",
    "        buisness_year = int(request.json['buisness_year'])\n",
    "        doc_id = int(request.json['doc_id'])\n",
    "        posting_date = request.json['posting_date']\n",
    "        due_in_date = request.json['due_in_date']\n",
    "        baseline_create_date = request.json['baseline_create_date']\n",
    "        cust_payment_terms = request.json['cust_payment_terms']\n",
    "        converted_usd = float(request.json['converted_usd'])\n",
    " \n",
    "        data['business_code'] = [business_code]\n",
    "        data['cust_number'] = [cust_number]\n",
    "        data['name_customer'] = [name_customer]\n",
    "        data['clear_date'] = [clear_date]\n",
    "        data['buisness_year'] = [buisness_year]\n",
    "        data['doc_id'] = [doc_id]\n",
    "        data['posting_date'] =[posting_date]\n",
    "        data['due_in_date'] = [due_in_date]\n",
    "        data['baseline_create_date'] = [baseline_create_date]\n",
    "        data['cust_payment_terms'] = [cust_payment_terms]\n",
    "        data['converted_usd'] = [converted_usd]\n",
    "        \n",
    "        \n",
    "        print(request.json)\n",
    "        \n",
    "       \n",
    "        \n",
    "        response = make_response(jsonify(New_Bucket.predict(data)),200)\n",
    "        response.headers[\"Content-Type\"] = \"application/json\"\n",
    "        return response\n",
    "    else:\n",
    "        return render_template(\"index1.html\")\n",
    "        \n",
    "@app.route(\"/get_prediction\", methods=[\"GET\",'POST'])\n",
    "def get_prediction():    \n",
    "    if request.method == \"POST\":\n",
    "        doc_id_list = list(request.json[\"data\"])\n",
    "        print(doc_id_list)\n",
    "        response = make_response(jsonify(New_Bucket.doc_id_bucket(doc_id_list)),200)\n",
    "        response.headers[\"Access-Control-Allow-Origin\"]=\"*\"\n",
    "        response.headers[\"Content-Type\"] = \"application/json\"\n",
    "        return response\n",
    "    else:\n",
    "        return render_template(\"index2.html\")\n",
    "    \n",
    "\n",
    "@app.route(\"/all\", methods=[\"GET\",'POST'])\n",
    "def alll():    \n",
    "    if request.method == \"POST\":        \n",
    "        response = make_response(jsonify(New_Bucket.alll()),200)       \n",
    "        response.headers[\"Content-Type\"] = \"application/json\"\n",
    "        return response\n",
    "    else:\n",
    "        return render_template(\"index3.html\")    \n",
    "    \n",
    "@app.route(\"/login\", methods=[\"POST\", \"GET\"])\n",
    "def login():\n",
    "    if request.method == \"POST\":\n",
    "        user = request.form[\"nm\"]\n",
    "        return redirect(url_for(\"user\", usr=user))\n",
    "    else:\n",
    "        return render_template(\"login.html\")\n",
    "\n",
    "@app.route(\"/<usr>\")\n",
    "def user(usr):\n",
    "    return f\"<h1>{usr}</h1>\"\n",
    "\n",
    "if __name__ == \"__main__\":\n",
    "    app.run()"
   ]
  },
  {
   "cell_type": "code",
   "execution_count": 1,
   "id": "287fe5bc",
   "metadata": {},
   "outputs": [
    {
     "name": "stdout",
     "output_type": "stream",
     "text": [
      "Collecting flask_cors\n",
      "  Using cached Flask_Cors-3.0.10-py2.py3-none-any.whl (14 kB)\n",
      "Requirement already satisfied: Flask>=0.9 in c:\\users\\sambi\\onedrive\\desktop\\highradious\\flask integration\\venv\\lib\\site-packages (from flask_cors) (1.1.2)\n",
      "Collecting Six\n",
      "  Using cached six-1.16.0-py2.py3-none-any.whl (11 kB)\n",
      "Requirement already satisfied: Werkzeug>=0.15 in c:\\users\\sambi\\onedrive\\desktop\\highradious\\flask integration\\venv\\lib\\site-packages (from Flask>=0.9->flask_cors) (2.1.1)\n",
      "Requirement already satisfied: itsdangerous>=0.24 in c:\\users\\sambi\\onedrive\\desktop\\highradious\\flask integration\\venv\\lib\\site-packages (from Flask>=0.9->flask_cors) (2.1.2)\n",
      "Requirement already satisfied: Jinja2>=2.10.1 in c:\\users\\sambi\\onedrive\\desktop\\highradious\\flask integration\\venv\\lib\\site-packages (from Flask>=0.9->flask_cors) (3.1.1)\n",
      "Requirement already satisfied: click>=5.1 in c:\\users\\sambi\\onedrive\\desktop\\highradious\\flask integration\\venv\\lib\\site-packages (from Flask>=0.9->flask_cors) (8.1.2)\n",
      "Requirement already satisfied: colorama in c:\\users\\sambi\\onedrive\\desktop\\highradious\\flask integration\\venv\\lib\\site-packages (from click>=5.1->Flask>=0.9->flask_cors) (0.4.4)\n",
      "Requirement already satisfied: MarkupSafe>=2.0 in c:\\users\\sambi\\onedrive\\desktop\\highradious\\flask integration\\venv\\lib\\site-packages (from Jinja2>=2.10.1->Flask>=0.9->flask_cors) (2.1.1)\n",
      "Installing collected packages: Six, flask-cors\n",
      "Successfully installed Six-1.16.0 flask-cors-3.0.10\n"
     ]
    },
    {
     "name": "stderr",
     "output_type": "stream",
     "text": [
      "WARNING: You are using pip version 21.1.2; however, version 22.0.4 is available.\n",
      "You should consider upgrading via the 'C:\\Users\\sambi\\OneDrive\\Desktop\\highradious\\Flask Integration\\venv\\Scripts\\python.exe -m pip install --upgrade pip' command.\n"
     ]
    }
   ],
   "source": [
    "!pip install flask_cors"
   ]
  },
  {
   "cell_type": "code",
   "execution_count": null,
   "id": "00d885e9",
   "metadata": {},
   "outputs": [],
   "source": []
  }
 ],
 "metadata": {
  "kernelspec": {
   "display_name": "Python 3 (ipykernel)",
   "language": "python",
   "name": "python3"
  },
  "language_info": {
   "codemirror_mode": {
    "name": "ipython",
    "version": 3
   },
   "file_extension": ".py",
   "mimetype": "text/x-python",
   "name": "python",
   "nbconvert_exporter": "python",
   "pygments_lexer": "ipython3",
   "version": "3.10.2"
  }
 },
 "nbformat": 4,
 "nbformat_minor": 5
}
